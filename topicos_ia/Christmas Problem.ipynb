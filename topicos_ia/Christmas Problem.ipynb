{
 "cells": [
  {
   "cell_type": "code",
   "execution_count": 1,
   "metadata": {},
   "outputs": [],
   "source": [
    "import pandas as pd"
   ]
  },
  {
   "cell_type": "code",
   "execution_count": 2,
   "metadata": {},
   "outputs": [
    {
     "name": "stdout",
     "output_type": "stream",
     "text": [
      "        CityId            X            Y\n",
      "0            0   316.836739  2202.340707\n",
      "1            1  4377.405972   336.602082\n",
      "2            2  3454.158198  2820.053011\n",
      "3            3  4688.099298  2935.898056\n",
      "4            4  1010.696952  3236.750989\n",
      "5            5  2474.230877  1435.514651\n",
      "6            6  1029.277795  2721.800952\n",
      "7            7  3408.887685   199.585793\n",
      "8            8  1304.006125  2657.427246\n",
      "9            9  4211.525725  2294.595208\n",
      "10          10   297.575458  1952.548486\n",
      "11          11  2052.116500   578.293526\n",
      "12          12  2645.077176  2717.838772\n",
      "13          13   965.611152  1067.734281\n",
      "14          14   454.988723  1217.670993\n",
      "15          15  3369.344927  1504.603740\n",
      "16          16  4944.059453  2326.338189\n",
      "17          17  4313.207563  2800.438423\n",
      "18          18  2352.743647  2489.939529\n",
      "19          19  3033.179607   515.217613\n",
      "20          20  3421.865966  1597.526985\n",
      "21          21  4326.667571  1607.378707\n",
      "22          22  1383.884494  3167.747210\n",
      "23          23  3633.815728  2889.995167\n",
      "24          24  3694.082279   734.949757\n",
      "25          25  4646.266998  2884.589219\n",
      "26          26  4587.094869   713.341441\n",
      "27          27  4310.142275  3267.646528\n",
      "28          28  2781.420320  3315.168132\n",
      "29          29   793.107933  1250.697907\n",
      "...        ...          ...          ...\n",
      "197739  197739  3679.427830  3144.267770\n",
      "197740  197740  4691.743461  2697.903721\n",
      "197741  197741  3020.693658   491.480850\n",
      "197742  197742  1220.188948  2262.137225\n",
      "197743  197743  4569.321312  2075.959746\n",
      "197744  197744  2491.902140   733.593037\n",
      "197745  197745  2844.448776  2512.728986\n",
      "197746  197746  4525.549241  2340.091980\n",
      "197747  197747  3276.780976  2081.205493\n",
      "197748  197748  1497.161106   588.124690\n",
      "197749  197749  4318.827493   673.679275\n",
      "197750  197750  4048.477263   750.749719\n",
      "197751  197751  3326.194964   925.078704\n",
      "197752  197752  1639.090909  1454.192915\n",
      "197753  197753  3916.074673  2809.518441\n",
      "197754  197754  2798.804043   945.545911\n",
      "197755  197755  1258.720587  3032.905630\n",
      "197756  197756  4314.204556  1964.504925\n",
      "197757  197757   896.454632  1465.045905\n",
      "197758  197758  4658.962194  1656.619621\n",
      "197759  197759  1390.805204   899.598564\n",
      "197760  197760  2342.391928  3174.572890\n",
      "197761  197761   185.689859  3359.380702\n",
      "197762  197762  4335.037254   153.424477\n",
      "197763  197763  1673.802962  1399.330722\n",
      "197764  197764   149.828018  3134.756986\n",
      "197765  197765  2615.299239  2267.979286\n",
      "197766  197766  4775.889874  3103.846228\n",
      "197767  197767  2994.230955  1931.764344\n",
      "197768  197768  1354.764778  3218.100625\n",
      "\n",
      "[197769 rows x 3 columns]\n"
     ]
    }
   ],
   "source": [
    "data = pd.read_csv(\"/Users/stefaniemuroyalei/Documents/cicloVI/topicos_ia/all/cities.csv\")\n",
    "print(data)"
   ]
  },
  {
   "cell_type": "code",
   "execution_count": 3,
   "metadata": {},
   "outputs": [],
   "source": [
    "from math import log"
   ]
  },
  {
   "cell_type": "code",
   "execution_count": 4,
   "metadata": {
    "scrolled": true
   },
   "outputs": [
    {
     "data": {
      "text/plain": [
       "2411764.270964879"
      ]
     },
     "execution_count": 4,
     "metadata": {},
     "output_type": "execute_result"
    }
   ],
   "source": [
    "197769*log(197769)"
   ]
  },
  {
   "cell_type": "code",
   "execution_count": 7,
   "metadata": {},
   "outputs": [],
   "source": [
    "X = data.values[:,1]"
   ]
  },
  {
   "cell_type": "code",
   "execution_count": 8,
   "metadata": {},
   "outputs": [
    {
     "name": "stdout",
     "output_type": "stream",
     "text": [
      "[ 316.83673906 4377.40597217 3454.15819771 ... 4775.8898741  2994.23095453\n",
      " 1354.7647783 ]\n"
     ]
    }
   ],
   "source": [
    "print(X)"
   ]
  },
  {
   "cell_type": "code",
   "execution_count": 9,
   "metadata": {},
   "outputs": [],
   "source": [
    "Y = data.values[:,2]"
   ]
  },
  {
   "cell_type": "code",
   "execution_count": 10,
   "metadata": {},
   "outputs": [
    {
     "name": "stdout",
     "output_type": "stream",
     "text": [
      "[2202.34070734  336.60208217 2820.05301125 ... 3103.84622792 1931.76434369\n",
      " 3218.10062536]\n"
     ]
    }
   ],
   "source": [
    "print(Y)"
   ]
  },
  {
   "cell_type": "code",
   "execution_count": 12,
   "metadata": {},
   "outputs": [
    {
     "data": {
      "text/plain": [
       "[<matplotlib.lines.Line2D at 0x1230d0fd0>]"
      ]
     },
     "execution_count": 12,
     "metadata": {},
     "output_type": "execute_result"
    },
    {
     "data": {
      "image/png": "[encoded data removed]",
      "text/plain": [
       "<Figure size 432x288 with 1 Axes>"
      ]
     },
     "metadata": {
      "needs_background": "light"
     },
     "output_type": "display_data"
    }
   ],
   "source": [
    "import matplotlib.pyplot as plt\n",
    "plt.plot(X,Y, '+')"
   ]
  },
  {
   "cell_type": "code",
   "execution_count": null,
   "metadata": {},
   "outputs": [],
   "source": []
  }
 ],
 "metadata": {
  "kernelspec": {
   "display_name": "Python 3",
   "language": "python",
   "name": "python3"
  },
  "language_info": {
   "codemirror_mode": {
    "name": "ipython",
    "version": 3
   },
   "file_extension": ".py",
   "mimetype": "text/x-python",
   "name": "python",
   "nbconvert_exporter": "python",
   "pygments_lexer": "ipython3",
   "version": "3.6.6"
  }
 },
 "nbformat": 4,
 "nbformat_minor": 2
}
