{
 "cells": [
  {
   "cell_type": "markdown",
   "metadata": {},
   "source": [
    "# Regresión Logística"
   ]
  },
  {
   "cell_type": "code",
   "execution_count": 1,
   "metadata": {},
   "outputs": [],
   "source": [
    "import numpy as np\n",
    "import matplotlib.pyplot as plt\n",
    "import pandas as pd"
   ]
  },
  {
   "cell_type": "code",
   "execution_count": 2,
   "metadata": {},
   "outputs": [],
   "source": [
    "datos = pd.read_csv(\"/Users/stefaniemuroyalei/Documents/cicloVI/topicos_ia/partidos.csv\")"
   ]
  },
  {
   "cell_type": "code",
   "execution_count": 3,
   "metadata": {},
   "outputs": [
    {
     "name": "stdout",
     "output_type": "stream",
     "text": [
      "[[ 1.490000e+02  6.050000e+02  2.023100e+00  1.326000e+00 -2.472000e+00\n",
      "   5.080000e+02 -2.276000e+00 -6.060000e+02 -3.136000e+00 -6.240000e+02\n",
      "  -2.051000e+00  2.479575e+04]\n",
      " [ 5.410000e+02 -4.470000e+02 -2.193000e+00  1.993000e+00  2.610000e+00\n",
      "   7.320000e+02  7.677000e+00 -9.400000e+02  1.824000e+00 -1.099000e+00\n",
      "   3.300000e+02 -3.176625e+04]\n",
      " [ 2.698000e+00 -2.816000e+00 -3.854000e+00 -8.630000e+02  9.710000e+02\n",
      "  -5.370000e+02  7.677000e+00 -7.190000e+02  5.192000e+00  3.920000e+02\n",
      "  -1.575000e+00 -3.649875e+04]\n",
      " [ 7.570000e+02 -1.211000e+00 -2.784000e+00 -2.380000e+02 -2.144000e+00\n",
      "   1.478000e+00  7.677000e+00 -5.280000e+02  2.215000e+00 -9.230000e+02\n",
      "   1.282000e+00 -3.231450e+04]\n",
      " [ 1.490000e+02  6.050000e+02 -2.193000e+00  1.326000e+00 -4.111000e+00\n",
      "   1.105000e+00 -2.300000e+00 -8.240000e+02 -3.136000e+00 -6.240000e+02\n",
      "  -2.051000e+00  2.479575e+04]\n",
      " [ 1.490000e+02  6.050000e+02 -2.193000e+00  1.326000e+00  6.430000e+02\n",
      "   1.403000e+00 -2.305000e+00 -9.030000e+02 -3.136000e+00 -6.240000e+02\n",
      "  -2.051000e+00  2.479575e+04]\n",
      " [ 1.490000e+02  6.050000e+02 -2.193000e+00  1.326000e+00  1.135000e+00\n",
      "  -5.462000e+00 -2.317000e+00 -9.270000e+02 -3.136000e+00 -6.240000e+02\n",
      "  -2.051000e+00  2.479575e+04]\n",
      " [ 1.490000e+02  6.050000e+02 -2.193000e+00  1.326000e+00 -5.586000e+00\n",
      "  -1.806000e+00 -2.323000e+00 -9.360000e+02 -1.705000e+00  8.765000e+00\n",
      "   7.949000e+00 -2.680650e+04]\n",
      " [ 1.490000e+02  6.050000e+02 -2.193000e+00  1.326000e+00 -3.291000e+00\n",
      "  -1.167000e+00 -2.300000e+00 -9.330000e+02  2.215000e+00 -1.232000e+00\n",
      "  -2.051000e+00  3.231450e+04]\n",
      " [ 1.490000e+02  6.050000e+02 -2.193000e+00  1.326000e+00  4.414000e+00\n",
      "   4.538000e+00 -2.289000e+00  9.060000e+00 -3.136000e+00 -6.240000e+02\n",
      "  -2.051000e+00  2.479575e+04]\n",
      " [-7.302000e+00  4.816000e+00  6.146000e+00 -8.674000e+00  1.510000e+02\n",
      "  -2.030000e+00 -2.317000e+00 -9.040000e+02  6.864000e+00 -1.235000e+00\n",
      "   4.139000e+00 -3.884700e+04]\n",
      " [ 1.490000e+02  6.050000e+02 -2.193000e+00  1.326000e+00  4.086000e+00\n",
      "   9.550000e+02 -2.293000e+00 -4.780000e+02 -3.136000e+00 -6.240000e+02\n",
      "  -2.051000e+00  2.479575e+04]\n",
      " [ 2.110000e+00 -5.184000e+00 -2.193000e+00 -2.825000e+00  3.594000e+00\n",
      "   2.840000e+02 -2.310000e+00 -3.620000e+02  2.215000e+00 -9.230000e+02\n",
      "   2.234000e+00  3.231450e+04]]\n"
     ]
    }
   ],
   "source": [
    "x = datos.values[:,1:-1]\n",
    "print(x)"
   ]
  },
  {
   "cell_type": "code",
   "execution_count": 4,
   "metadata": {},
   "outputs": [],
   "source": [
    "y = datos.values[:,-1]\n"
   ]
  },
  {
   "cell_type": "code",
   "execution_count": 5,
   "metadata": {},
   "outputs": [],
   "source": [
    "class regression:\n",
    "    def __init__(self,X,Y):\n",
    "        self.X = X\n",
    "        self.Y = Y\n",
    "        self.theta = []\n",
    "    def __add_intercept(self, X):\n",
    "        intercept = np.ones((X.shape[0], 1))\n",
    "        return np.concatenate((intercept, X), axis=1)\n",
    "    def __hypotesis(self, z):\n",
    "        return float(1) / (1 + np.exp(-z)).astype(float)\n",
    "    def __loss(self, h, y):\n",
    "        return (-y * np.log(h) - (1 - y) * np.log(1 - h)).mean()\n",
    "    def fit(self, stepsize, maxIter, stopCriteria, lamb):\n",
    "        count = 0;\n",
    "        self.X = self.__add_intercept(self.X)\n",
    "        self.theta = np.zeros(self.X.shape[1])\n",
    "        z = np.dot(self.X, self.theta)\n",
    "        h = self.__hypotesis(z)\n",
    "        cost = self.__loss(h, self.Y)\n",
    "        #print(cost)\n",
    "        while(cost > stopCriteria and count <= maxIter):\n",
    "            gradient = np.dot(self.X.T, (h - self.Y)) / self.Y.size\n",
    "            temp = float(sum(self.theta[1:]))/float(len(self.theta))*lamb\n",
    "            self.theta -= stepsize *gradient \n",
    "            theta_temp = self.theta[0]\n",
    "            self.theta -= stepsize*temp;\n",
    "            self.theta[0] = theta_temp\n",
    "            z = np.dot(self.X, self.theta)\n",
    "            h = self.__hypotesis(z)\n",
    "            cost = self.__loss(h, self.Y)\n",
    "            count = count +1\n",
    "        print(cost)\n",
    "        print(self.theta)\n",
    "    def predict_prob(self, X):\n",
    "        return self.__hypotesis(np.dot(X, self.theta))\n",
    "    def predict(self, X, threshold):\n",
    "        return self.predict_prob(X) >= threshold\n",
    "            \n",
    "            \n",
    "        \n",
    "    \n",
    "   "
   ]
  },
  {
   "cell_type": "code",
   "execution_count": 6,
   "metadata": {},
   "outputs": [],
   "source": [
    "r = regression(x,y)"
   ]
  },
  {
   "cell_type": "code",
   "execution_count": 9,
   "metadata": {},
   "outputs": [
    {
     "name": "stdout",
     "output_type": "stream",
     "text": [
      "0.27248917653835825\n",
      "[ 1.31109122e-05  1.22034757e-05  1.22034757e-05  6.89338008e-03\n",
      "  5.25978808e-03 -3.27977038e-04  2.49977744e-03 -5.57306943e-03\n",
      "  1.04387401e-03  5.01266378e-05  1.12203125e-03 -9.44119252e-05\n",
      "  6.56192095e-03  5.00500449e-03  2.41511541e-05]\n"
     ]
    }
   ],
   "source": [
    "#modelo para predecir si va a ganar\n",
    "r.fit(0.00000001, 100000, 0.1, 0.90)"
   ]
  },
  {
   "cell_type": "code",
   "execution_count": 10,
   "metadata": {},
   "outputs": [
    {
     "name": "stdout",
     "output_type": "stream",
     "text": [
      "    ID  Promedio edades  Promedio kg  Promedio altura  Promedio precio  \\\n",
      "0    1          149.000      605.000           2.0231            1.326   \n",
      "1    2          541.000     -447.000          -2.1930            1.993   \n",
      "2    3            2.698       -2.816          -3.8540         -863.000   \n",
      "3    4          757.000       -1.211          -2.7840         -238.000   \n",
      "4    5          149.000      605.000          -2.1930            1.326   \n",
      "5    6          149.000      605.000          -2.1930            1.326   \n",
      "6    7          149.000      605.000          -2.1930            1.326   \n",
      "7    8          149.000      605.000          -2.1930            1.326   \n",
      "8    9          149.000      605.000          -2.1930            1.326   \n",
      "9   10          149.000      605.000          -2.1930            1.326   \n",
      "10  11           -7.302        4.816           6.1460           -8.674   \n",
      "11  12          149.000      605.000          -2.1930            1.326   \n",
      "12  13            2.110       -5.184          -2.1930           -2.825   \n",
      "\n",
      "    Promedio edades.1  Promedio kg.1  Promedio altura.1  Promedio precio.1  \\\n",
      "0              -2.472        508.000             -2.276            -606.00   \n",
      "1               2.610        732.000              7.677            -940.00   \n",
      "2             971.000       -537.000              7.677            -719.00   \n",
      "3              -2.144          1.478              7.677            -528.00   \n",
      "4              -4.111          1.105             -2.300            -824.00   \n",
      "5             643.000          1.403             -2.305            -903.00   \n",
      "6               1.135         -5.462             -2.317            -927.00   \n",
      "7              -5.586         -1.806             -2.323            -936.00   \n",
      "8              -3.291         -1.167             -2.300            -933.00   \n",
      "9               4.414          4.538             -2.289               9.06   \n",
      "10            151.000         -2.030             -2.317            -904.00   \n",
      "11              4.086        955.000             -2.293            -478.00   \n",
      "12              3.594        284.000             -2.310            -362.00   \n",
      "\n",
      "    capacidad  Altura (metros)  Temperatura (c)  capacidad 2  y  \n",
      "0      -3.136         -624.000           -2.051     24795.75  0  \n",
      "1       1.824           -1.099          330.000    -31766.25  0  \n",
      "2       5.192          392.000           -1.575    -36498.75  0  \n",
      "3       2.215         -923.000            1.282    -32314.50  1  \n",
      "4      -3.136         -624.000           -2.051     24795.75  0  \n",
      "5      -3.136         -624.000           -2.051     24795.75  1  \n",
      "6      -3.136         -624.000           -2.051     24795.75  0  \n",
      "7      -1.705            8.765            7.949    -26806.50  0  \n",
      "8       2.215           -1.232           -2.051     32314.50  0  \n",
      "9      -3.136         -624.000           -2.051     24795.75  0  \n",
      "10      6.864           -1.235            4.139    -38847.00  1  \n",
      "11     -3.136         -624.000           -2.051     24795.75  0  \n",
      "12      2.215         -923.000            2.234     32314.50  0  \n"
     ]
    }
   ],
   "source": [
    "#cargar variables para predecir si va a empatar\n",
    "\n",
    "datos = pd.read_csv(\"/Users/stefaniemuroyalei/Documents/cicloVI/topicos_ia/partidos2.csv\")\n",
    "print(datos)\n",
    "xEmpate  = datos.values[:,1:-1]\n",
    "yEmpate = datos.values[:,-1]\n",
    "yEmpate = yEmpate.astype(float)"
   ]
  },
  {
   "cell_type": "code",
   "execution_count": 11,
   "metadata": {},
   "outputs": [],
   "source": [
    "rEmpate = regression(xEmpate, yEmpate)"
   ]
  },
  {
   "cell_type": "code",
   "execution_count": 12,
   "metadata": {},
   "outputs": [
    {
     "name": "stdout",
     "output_type": "stream",
     "text": [
      "0.05999980272008682\n",
      "[-4.62397815e-05  1.17736596e-03 -4.05760091e-03  2.89793685e-04\n",
      "  1.79842147e-02  1.01078475e-02 -6.23500528e-03 -1.31991849e-04\n",
      "  3.09956480e-03 -2.47711258e-05 -4.64378571e-03 -4.62957986e-03\n",
      " -1.09353107e-04]\n"
     ]
    }
   ],
   "source": [
    "rEmpate.fit(0.00000001, 1000000, 0.06, 0.95)"
   ]
  },
  {
   "cell_type": "code",
   "execution_count": 20,
   "metadata": {},
   "outputs": [
    {
     "name": "stdout",
     "output_type": "stream",
     "text": [
      "0.23131901249879994\n",
      "[-4.15918106e-05 -1.86495831e-02 -1.26824079e-02  1.84352287e-03\n",
      " -2.14160089e-02 -7.61511960e-03 -1.27048659e-05  2.26713810e-04\n",
      " -2.47262483e-03 -3.44240874e-04 -8.00758729e-03 -2.02505036e-03\n",
      "  1.43809155e-04]\n"
     ]
    }
   ],
   "source": [
    "#cargar variables para predecir si va a perder\n",
    "datos = pd.read_csv(\"/Users/stefaniemuroyalei/Documents/cicloVI/topicos_ia/partidos3.csv\")\n",
    "xPierde  = datos.values[:,1:-1]\n",
    "yPierde = datos.values[:,-1]\n",
    "yPierde = yPierde.astype(float)     \n",
    "rPierde = regression(xPierde, yPierde)\n",
    "rPierde.fit(0.00000001, 1000000, 0.05, 0.95)"
   ]
  },
  {
   "cell_type": "code",
   "execution_count": 15,
   "metadata": {},
   "outputs": [],
   "source": [
    "def predecir(inputX, regGanar, regEmpatar, regPerder):\n",
    "    probGanar = regGanar.predict(regGanar.X, 0.1)\n",
    "    probEmpatar = regEmpatar.predict(regEmpatar.X, 0.1)\n",
    "    probPerder = regPerder.predict(regPerder.X, 0.1)\n",
    "    ans =[]\n",
    "    for i in range(0 , len(probGanar)):\n",
    "        if probPerder[i] == True:\n",
    "            ans.append(-1)\n",
    "        elif probEmpatar[i] == True:\n",
    "            ans.append(0)\n",
    "        else:\n",
    "            ans.append(1)\n",
    "    return ans"
   ]
  },
  {
   "cell_type": "code",
   "execution_count": 16,
   "metadata": {},
   "outputs": [],
   "source": [
    "def getVectorAnswer():\n",
    "    ans =[]\n",
    "    tempy = yPierde.astype(int)\n",
    "    tempy2 = yEmpate.astype(int)\n",
    "    for a in range(0, len(yPierde)):\n",
    "        if tempy[a] == 1:\n",
    "            ans.append(-1)\n",
    "        elif tempy2[a] == 1:\n",
    "            ans.append(0)\n",
    "        else:\n",
    "            ans.append(1)\n",
    "    return ans"
   ]
  },
  {
   "cell_type": "code",
   "execution_count": 17,
   "metadata": {},
   "outputs": [],
   "source": [
    "def getPrecision():\n",
    "    count = 0\n",
    "    vectorAnswer = getVectorAnswer()\n",
    "    temp = predecir(r.X,r,rEmpate,rPierde)\n",
    "    for i in range(0, len(yPierde)):\n",
    "        \n",
    "        if temp[i] == vectorAnswer[i]:\n",
    "            count+=1\n",
    "    return count / len(yPierde)\n",
    "        \n",
    "        "
   ]
  },
  {
   "cell_type": "code",
   "execution_count": 21,
   "metadata": {},
   "outputs": [
    {
     "data": {
      "text/plain": [
       "0.7692307692307693"
      ]
     },
     "execution_count": 21,
     "metadata": {},
     "output_type": "execute_result"
    }
   ],
   "source": [
    "getPrecision()"
   ]
  },
  {
   "cell_type": "code",
   "execution_count": 22,
   "metadata": {},
   "outputs": [],
   "source": [
    "from random import randrange\n",
    " \n",
    "# Split a dataset into a train and test set\n",
    "def train_test_split(dataset, split=0.60):\n",
    "    train = list()\n",
    "    train_size = split * len(dataset)\n",
    "    dataset_copy = list(dataset)\n",
    "    while len(train) < train_size:\n",
    "        index = randrange(len(dataset_copy))\n",
    "        train.append(dataset_copy.pop(index))\n",
    "        return train, dataset_copy"
   ]
  },
  {
   "cell_type": "code",
   "execution_count": 26,
   "metadata": {},
   "outputs": [],
   "source": [
    "def crossValidation(iterNum, split = 0.7):\n",
    "    totalMatrix = np.hstack((getVectorAnswer(), predecir(r.X)))\n",
    "    print(totalMatrix)"
   ]
  },
  {
   "cell_type": "raw",
   "metadata": {},
   "source": []
  }
 ],
 "metadata": {
  "kernelspec": {
   "display_name": "Python 3",
   "language": "python",
   "name": "python3"
  },
  "language_info": {
   "codemirror_mode": {
    "name": "ipython",
    "version": 3
   },
   "file_extension": ".py",
   "mimetype": "text/x-python",
   "name": "python",
   "nbconvert_exporter": "python",
   "pygments_lexer": "ipython3",
   "version": "3.6.5"
  }
 },
 "nbformat": 4,
 "nbformat_minor": 2
}
