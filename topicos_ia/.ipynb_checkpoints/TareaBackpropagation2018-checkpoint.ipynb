{
 "cells": [
  {
   "cell_type": "markdown",
   "metadata": {},
   "source": [
    "# Implementación Backpropagation usando Scipy\n"
   ]
  },
  {
   "cell_type": "markdown",
   "metadata": {},
   "source": [
    "## Utilería"
   ]
  },
  {
   "cell_type": "code",
   "execution_count": 1,
   "metadata": {},
   "outputs": [],
   "source": [
    "import numpy as np\n",
    "from scipy import optimize\n",
    "import pandas as pd"
   ]
  },
  {
   "cell_type": "code",
   "execution_count": 2,
   "metadata": {},
   "outputs": [],
   "source": [
    "#Leyendo los datos\n",
    "X = np.array(pd.read_csv('Forward/x.csv',sep=',',header=None).values)\n",
    "Y = np.array(pd.read_csv('Forward/y.csv',sep=',',header=None).values)\n",
    "theta1 = np.array(pd.read_csv('Forward/theta1.csv',sep=',',header=None).values)\n",
    "theta2 = np.array(pd.read_csv('Forward/theta2.csv',sep=',',header=None).values)\n",
    "\n",
    "# Theta será tratado como un arreglo lineal\n",
    "theta = np.hstack((theta1.ravel(),theta2.ravel()))"
   ]
  },
  {
   "cell_type": "code",
   "execution_count": 3,
   "metadata": {},
   "outputs": [],
   "source": [
    "#TODO: Retornar la función sigmoidea\n",
    "def sigmoid(z):\n",
    "    return 1.0/(1.0 +  np.exp(-z) )\n",
    "    "
   ]
  },
  {
   "cell_type": "code",
   "execution_count": 4,
   "metadata": {},
   "outputs": [],
   "source": [
    "#TODO: Retornar la gradiente de la funcion sigmoidea\n",
    "def sigmoidGradient(z):\n",
    "    temp = np.array(sigmoid(z))\n",
    "    return temp *(1-temp)\n"
   ]
  },
  {
   "cell_type": "markdown",
   "metadata": {},
   "source": [
    "# Fastforward"
   ]
  },
  {
   "cell_type": "code",
   "execution_count": 5,
   "metadata": {},
   "outputs": [],
   "source": [
    "#TODO: Retorna la predicción de X, dado theta. \n",
    "def fastforward(X,theta):\n",
    "    theta0 = theta[:25*401].reshape(25,401)\n",
    "    theta1 = theta[25*401:].reshape(10,26)\n",
    "    tempx = X\n",
    "    tempx = np.matrix(np.append(np.ones((X.shape[0], 1)), tempx, axis=1))\n",
    "    z = np.dot(tempx, theta0.T)\n",
    "    temp = sigmoid(z)\n",
    "    temp = np.matrix(np.append(np.ones((temp.shape[0], 1)), temp, axis=1))\n",
    "    temp = np.dot(temp, theta1.T)\n",
    "    a2 = sigmoid(temp)\n",
    "    return np.argmax(a2,axis=1).T\n",
    "def fastforward2(X, theta):\n",
    "    theta0 = theta[:25*401].reshape(25,401)\n",
    "    theta1 = theta[25*401:].reshape(10,26)\n",
    "    tempx = X\n",
    "    tempx = np.matrix(np.append(np.ones((X.shape[0], 1)), tempx, axis=1))\n",
    "    z = np.dot(tempx, theta0.T)\n",
    "    temp = sigmoid(z)\n",
    "    temp = np.matrix(np.append(np.ones((temp.shape[0], 1)), temp, axis=1))\n",
    "    temp = np.dot(temp, theta1.T)\n",
    "    a2 = sigmoid(temp)\n",
    "    return a2\n",
    "def getMatrixY(Y):\n",
    "    answer = np.zeros((5000,10))\n",
    "    \n",
    "    for i in range(0,5000):\n",
    "        answer[i][Y[i]-1] = 1\n",
    "    return answer"
   ]
  },
  {
   "cell_type": "code",
   "execution_count": 6,
   "metadata": {},
   "outputs": [],
   "source": [
    "#TODO: Retorna la precisión\n",
    "# res: resultado de haber aplicado el forward,\n",
    "# Y: lo que debia haber marcado\n",
    "def calcularPrecision(res, Y):\n",
    "    res = res.T\n",
    "    count = 0\n",
    "    for i in range(0, len(res)):\n",
    "        index = res[i]+1\n",
    "        if Y[i] == index:\n",
    "            count+=1\n",
    "    return 100*count/float(len(res))"
   ]
  },
  {
   "cell_type": "code",
   "execution_count": 7,
   "metadata": {},
   "outputs": [
    {
     "data": {
      "text/plain": [
       "97.52"
      ]
     },
     "execution_count": 7,
     "metadata": {},
     "output_type": "execute_result"
    }
   ],
   "source": [
    "#CHECK: Esto debería imprimir 97,5\n",
    "\n",
    "fw = fastforward(X,theta)\n",
    "calcularPrecision(fw,Y) "
   ]
  },
  {
   "cell_type": "markdown",
   "metadata": {},
   "source": [
    "# Backpropagation"
   ]
  },
  {
   "cell_type": "markdown",
   "metadata": {},
   "source": [
    "### Gradiente"
   ]
  },
  {
   "cell_type": "code",
   "execution_count": 104,
   "metadata": {},
   "outputs": [],
   "source": [
    "#TODO: Esta funcion retornará la gradiente\n",
    "    \n",
    "def compute_gradient(theta, X, Y, parametroLambda=0):\n",
    "    theta1 = theta[:25*401].reshape(25,401)\n",
    "    theta2 = theta[25*401:].reshape(10,26)\n",
    "    a3 = fastforward2(X,theta)\n",
    "    newY = getMatrixY(Y)\n",
    "    #calcular d3\n",
    "    d3 = a3 - newY\n",
    "\n",
    "    \n",
    "    #calcular d2\n",
    "    tempx = X\n",
    "    tempx = np.matrix(np.append(np.ones((X.shape[0], 1)), tempx, axis=1))\n",
    "    z = np.dot(tempx, theta1.T)\n",
    "    temp = sigmoid(z)\n",
    "    \n",
    "    temp = np.matrix(np.append(np.ones((temp.shape[0], 1)), temp, axis=1))\n",
    "    a2 = temp\n",
    "    z2 = np.dot(temp, theta2.T)\n",
    "    derivadaG = sigmoidGradient(z2)\n",
    "    temp = np.multiply(d3, derivadaG)\n",
    "    d2 = temp * theta2\n",
    "    \n",
    "    # Calcular d3,d2 y los Delta1,Delta2\n",
    "    grad2 = ((d3.T * a2) / 5000) + parametroLambda*theta2  #cambiar\n",
    "    grad1 =((d2[:,1:].T * tempx)/5000) + parametroLambda*theta1 #cambiar\n",
    "    grad = np.squeeze(np.hstack((grad1.ravel(),grad2.ravel())))\n",
    "    return grad"
   ]
  },
  {
   "cell_type": "code",
   "execution_count": 105,
   "metadata": {},
   "outputs": [
    {
     "name": "stdout",
     "output_type": "stream",
     "text": [
      "[[0.69525731 0.73161262 0.76068676 0.78365809 0.80167098 0.81573468\n",
      "  0.82669235 0.83522589 0.84187577 0.84706502]]\n"
     ]
    }
   ],
   "source": [
    "# Verificar los valores:\n",
    "thetaFake = np.arange(10285)/70000\n",
    "grad = compute_gradient(thetaFake,X,Y)\n",
    "print( grad[0:,10030:10040])\n",
    "\n",
    "# -4.5257\n",
    "#  -4.5257\n",
    "#  -4.5257\n",
    "#  -4.5257\n",
    "#  -4.5257\n",
    "#  -4.4026\n",
    "#  -4.4026\n",
    "#  -4.4026\n",
    "#  -4.4026\n",
    "#  -4.4026\n",
    "#  -4.4026\n"
   ]
  },
  {
   "cell_type": "markdown",
   "metadata": {},
   "source": [
    "### Función costo"
   ]
  },
  {
   "cell_type": "code",
   "execution_count": 26,
   "metadata": {},
   "outputs": [],
   "source": [
    "#TODO: Computar la función costo\n",
    "def compute_cost(theta, X, y, lambdaParam):\n",
    "    #calcular fastforward\n",
    "    output = fastforward2(X, theta)\n",
    "    newY = getMatrixY(y)\n",
    "    J = np.multiply(newY,np.log(output)) + np.multiply((1 - newY), np.log(1 - output))\n",
    "    J=np.sum(J, axis = 1)\n",
    "    J = np.sum(J)/(-5000) + lambdaParam*(np.sum(np.multiply(theta, theta)[1:]))/(2*5000)\n",
    "    return J"
   ]
  },
  {
   "cell_type": "code",
   "execution_count": 27,
   "metadata": {},
   "outputs": [
    {
     "name": "stdout",
     "output_type": "stream",
     "text": [
      "0.12491575926399985\n",
      "0.22177433943943128\n",
      "0.41549149979029415\n"
     ]
    }
   ],
   "source": [
    "#CHECK: \n",
    "print( compute_cost(theta, X, Y, 0)) #Deberia imprimir 0.2876291651613189\n",
    "print( compute_cost(theta, X, Y, 1)) #Deberia imprimir 0.38376985909092365\n",
    "print( compute_cost(theta, X, Y, 3)) #Deberia imprimir 0.5760512469501331"
   ]
  },
  {
   "cell_type": "markdown",
   "metadata": {},
   "source": [
    "### Ejecutar backpropagation"
   ]
  },
  {
   "cell_type": "code",
   "execution_count": 35,
   "metadata": {},
   "outputs": [],
   "source": [
    "# recomendacion de Andre NG.\n",
    "epsilon_init = 0.12\n",
    "initialTheta = np.random.rand(10285)* 2 * epsilon_init - epsilon_init\n",
    "\n",
    "lambdaParam = 1\n",
    "\n",
    "#Descomentar cuando este listo\n",
    "#thetaOpt = optimize.fmin_cg(compute_cost,            # funcionCosto\n",
    "#                            initialTheta,            # theta inicial\n",
    "#                            fprime=compute_gradient, # funcionGradiente\n",
    "#                            args=(X,Y,lambdaParam))  # resto de parámetros\n"
   ]
  },
  {
   "cell_type": "code",
   "execution_count": 37,
   "metadata": {},
   "outputs": [
    {
     "data": {
      "text/plain": [
       "0"
      ]
     },
     "execution_count": 37,
     "metadata": {},
     "output_type": "execute_result"
    }
   ],
   "source": [
    "fw = fastforward(X,theta)\n",
    "calcularPrecision(fw,Y)\n",
    "# deberia imprimir encima de 90 =]"
   ]
  },
  {
   "cell_type": "code",
   "execution_count": null,
   "metadata": {},
   "outputs": [],
   "source": []
  }
 ],
 "metadata": {
  "kernelspec": {
   "display_name": "Python 3",
   "language": "python",
   "name": "python3"
  },
  "language_info": {
   "codemirror_mode": {
    "name": "ipython",
    "version": 3
   },
   "file_extension": ".py",
   "mimetype": "text/x-python",
   "name": "python",
   "nbconvert_exporter": "python",
   "pygments_lexer": "ipython3",
   "version": "3.6.5"
  }
 },
 "nbformat": 4,
 "nbformat_minor": 2
}
