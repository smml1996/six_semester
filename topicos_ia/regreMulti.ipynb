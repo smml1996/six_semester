{
 "cells": [
  {
   "cell_type": "markdown",
   "metadata": {},
   "source": [
    "# Regresión Multilineal"
   ]
  },
  {
   "cell_type": "code",
   "execution_count": 4,
   "metadata": {},
   "outputs": [],
   "source": [
    "import numpy as np\n",
    "import matplotlib.pyplot as plt"
   ]
  },
  {
   "cell_type": "raw",
   "metadata": {},
   "source": [
    "[a] + [b] = [ab] .. np.hstack(a,b) "
   ]
  },
  {
   "cell_type": "code",
   "execution_count": 5,
   "metadata": {},
   "outputs": [
    {
     "name": "stdout",
     "output_type": "stream",
     "text": [
      "17\n",
      "17\n"
     ]
    }
   ],
   "source": [
    "x = np.array([1,2,3,4,5,6,7,8,9,10,11,12,13,14,15,16,17]).T\n",
    "print(len(x))\n",
    "print(len(x))\n",
    "x = np.hstack((np.ones(17) , x)).reshape(2,17).T\n",
    "y = np.array([0,0,3,3,4,4,7,10,11,11,14,14,15,18,21,24,25]).reshape(17,1)\n",
    "theta = np.ones(2).reshape(1,2)"
   ]
  },
  {
   "cell_type": "code",
   "execution_count": 1,
   "metadata": {},
   "outputs": [],
   "source": [
    "def hipotesis(th):\n",
    "    return np.dot(self.X, self.theta)"
   ]
  },
  {
   "cell_type": "code",
   "execution_count": 2,
   "metadata": {},
   "outputs": [],
   "source": [
    "def costo(th):\n",
    "    temp = np.subtract(hipotesis(th), y);\n",
    "    temp = np.sum(np.dot(temp.T,temp))\n",
    "    temp = temp/(2*len(x))\n",
    "    return temp"
   ]
  },
  {
   "cell_type": "code",
   "execution_count": 3,
   "metadata": {},
   "outputs": [],
   "source": [
    "def gradiente(th, alpha, stopCriteria):\n",
    "    m = len(x)\n",
    "    m = float(m)\n",
    "    h = hipotesis(th)\n",
    "    while(costo(th) > stopCriteria):\n",
    "        subs = h-y\n",
    "        temp = x*subs\n",
    "        temp = temp/m\n",
    "        temp = temp*alpha\n",
    "        temp = np.sum(temp.T,1)\n",
    "        th = th - temp\n",
    "        h = hipotesis(th)\n",
    "    yNew = th[0][0] + th[0][1]*x\n",
    "    plt.plot(x,yNew)\n",
    "    plt.plot(x,y, '+')"
   ]
  },
  {
   "cell_type": "code",
   "execution_count": 128,
   "metadata": {},
   "outputs": [
    {
     "data": {
      "image/png": "[encoded data removed]",
      "text/plain": [
       "<Figure size 432x288 with 1 Axes>"
      ]
     },
     "metadata": {},
     "output_type": "display_data"
    }
   ],
   "source": [
    "gradiente(theta, 0.01, 2)"
   ]
  },
  {
   "cell_type": "code",
   "execution_count": null,
   "metadata": {},
   "outputs": [],
   "source": []
  },
  {
   "cell_type": "code",
   "execution_count": null,
   "metadata": {},
   "outputs": [],
   "source": []
  }
 ],
 "metadata": {
  "kernelspec": {
   "display_name": "Python 3",
   "language": "python",
   "name": "python3"
  },
  "language_info": {
   "codemirror_mode": {
    "name": "ipython",
    "version": 3
   },
   "file_extension": ".py",
   "mimetype": "text/x-python",
   "name": "python",
   "nbconvert_exporter": "python",
   "pygments_lexer": "ipython3",
   "version": "3.6.5"
  }
 },
 "nbformat": 4,
 "nbformat_minor": 2
}
