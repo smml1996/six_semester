{
 "cells": [
  {
   "cell_type": "code",
   "execution_count": 1,
   "metadata": {},
   "outputs": [],
   "source": [
    "import numpy as np\n",
    "import pandas as pd\n",
    "import cv2\n",
    "import sys\n",
    "from time import clock\n",
    "import matplotlib.pyplot as plt\n",
    "import os.path"
   ]
  },
  {
   "cell_type": "code",
   "execution_count": 2,
   "metadata": {},
   "outputs": [],
   "source": [
    "from numpy import genfromtxt\n",
    "my_data = genfromtxt('stefanie.csv', delimiter=',')\n",
    "Y = []\n",
    "for i in my_data:\n",
    "    Y.append(1)"
   ]
  },
  {
   "cell_type": "code",
   "execution_count": 3,
   "metadata": {},
   "outputs": [
    {
     "name": "stdout",
     "output_type": "stream",
     "text": [
      "(104,)\n"
     ]
    }
   ],
   "source": [
    "print(np.array(Y).shape)"
   ]
  },
  {
   "cell_type": "code",
   "execution_count": 4,
   "metadata": {},
   "outputs": [],
   "source": [
    "jimmy = genfromtxt('jonathan_jimmy.csv', delimiter=',')\n",
    "for i in jimmy:\n",
    "    Y.append(3)\n",
    "X = np.vstack((my_data, jimmy))"
   ]
  },
  {
   "cell_type": "code",
   "execution_count": null,
   "metadata": {},
   "outputs": [],
   "source": [
    "delaGala = genfromtxt('delaGala.csv', delimiter=',')\n",
    "for i in delaGala:\n",
    "    Y.append(2)\n",
    "X = np.vstack((X, delaGala))"
   ]
  },
  {
   "cell_type": "code",
   "execution_count": null,
   "metadata": {},
   "outputs": [],
   "source": [
    "harry = genfromtxt('harry_marquez.csv', delimiter=',')\n",
    "for i in harry:\n",
    "    Y.append(0)\n",
    "X = np.vstack((X, harry))"
   ]
  },
  {
   "cell_type": "code",
   "execution_count": null,
   "metadata": {},
   "outputs": [],
   "source": [
    "from sklearn.ensemble import RandomForestClassifier\n",
    "from sklearn.datasets import make_classification"
   ]
  },
  {
   "cell_type": "code",
   "execution_count": null,
   "metadata": {},
   "outputs": [],
   "source": [
    "clf = RandomForestClassifier(n_estimators=500, max_depth=20, random_state=77)"
   ]
  },
  {
   "cell_type": "code",
   "execution_count": null,
   "metadata": {},
   "outputs": [
    {
     "data": {
      "text/plain": [
       "RandomForestClassifier(bootstrap=True, class_weight=None, criterion='gini',\n",
       "            max_depth=20, max_features='auto', max_leaf_nodes=None,\n",
       "            min_impurity_decrease=0.0, min_impurity_split=None,\n",
       "            min_samples_leaf=1, min_samples_split=2,\n",
       "            min_weight_fraction_leaf=0.0, n_estimators=500, n_jobs=None,\n",
       "            oob_score=False, random_state=77, verbose=0, warm_start=False)"
      ]
     },
     "execution_count": 9,
     "metadata": {},
     "output_type": "execute_result"
    }
   ],
   "source": [
    "clf.fit(X, Y)"
   ]
  },
  {
   "cell_type": "code",
   "execution_count": null,
   "metadata": {},
   "outputs": [],
   "source": [
    "answer = clf.predict(X)"
   ]
  },
  {
   "cell_type": "code",
   "execution_count": null,
   "metadata": {},
   "outputs": [
    {
     "data": {
      "text/plain": [
       "1.0"
      ]
     },
     "execution_count": 11,
     "metadata": {},
     "output_type": "execute_result"
    }
   ],
   "source": [
    "precision = 0\n",
    "for i in range(0, len(answer)):\n",
    "    if answer[i] == Y[i]:\n",
    "        precision+=1\n",
    "precision / len(Y)"
   ]
  },
  {
   "cell_type": "code",
   "execution_count": null,
   "metadata": {},
   "outputs": [
    {
     "data": {
      "text/plain": [
       "1.0"
      ]
     },
     "execution_count": 12,
     "metadata": {},
     "output_type": "execute_result"
    }
   ],
   "source": [
    "from sklearn.metrics import f1_score\n",
    "f1_score(Y, answer, average='weighted')"
   ]
  },
  {
   "cell_type": "code",
   "execution_count": null,
   "metadata": {},
   "outputs": [
    {
     "data": {
      "text/plain": [
       "1.0"
      ]
     },
     "execution_count": 13,
     "metadata": {},
     "output_type": "execute_result"
    }
   ],
   "source": [
    "f1_score(Y, answer, average='macro')"
   ]
  },
  {
   "cell_type": "code",
   "execution_count": null,
   "metadata": {},
   "outputs": [
    {
     "data": {
      "text/plain": [
       "1.0"
      ]
     },
     "execution_count": 14,
     "metadata": {},
     "output_type": "execute_result"
    }
   ],
   "source": [
    "f1_score(Y, answer, average='micro')"
   ]
  },
  {
   "cell_type": "code",
   "execution_count": null,
   "metadata": {},
   "outputs": [
    {
     "name": "stdout",
     "output_type": "stream",
     "text": [
      "Accuracy: 0.96 (+/- 0.11)\n"
     ]
    }
   ],
   "source": [
    "from sklearn.model_selection import cross_val_score\n",
    "scores = cross_val_score(clf, X, Y, cv=5)\n",
    "print(\"Accuracy: %0.2f (+/- %0.2f)\" % (scores.mean(), scores.std() * 2))"
   ]
  },
  {
   "cell_type": "code",
   "execution_count": null,
   "metadata": {},
   "outputs": [],
   "source": [
    "def getName(result):\n",
    "    if result == 1:\n",
    "        return 'Stefanie'\n",
    "    elif result == 3:\n",
    "        return 'Jimmy'\n",
    "    elif result == 2:\n",
    "        return 'deLaGala'\n",
    "    elif result == 0:\n",
    "        return 'Harry'\n",
    "    else:\n",
    "        return 'none'"
   ]
  },
  {
   "cell_type": "code",
   "execution_count": null,
   "metadata": {},
   "outputs": [],
   "source": [
    "cascPath =  \"haarcascade_frontalface_default.xml\"\n",
    "faceCascade = cv2.CascadeClassifier(cascPath)\n",
    "\n",
    "cap = cv2.VideoCapture(0)\n",
    "\n",
    "a = 0\n",
    "count = 0\n",
    "while True:\n",
    "    # Capture frame-by-frame\n",
    "    #ret, frame = video_capture.read()\n",
    "    ret, frame = cap.read()\n",
    "    b = clock()\n",
    "    if  ret==False:\n",
    "        print(\"ERROR: No device found\")\n",
    "        break\n",
    "\n",
    "    gray = cv2.cvtColor(frame, cv2.COLOR_BGR2GRAY)\n",
    "\n",
    "    faces = faceCascade.detectMultiScale(\n",
    "        gray,\n",
    "        scaleFactor=1.1,\n",
    "        minNeighbors=5,\n",
    "        minSize=(30, 30),\n",
    "        #flags=cv2.cv.CV_HAAR_SCALE_IMAGE\n",
    "        flags=cv2.CASCADE_SCALE_IMAGE\n",
    "    )\n",
    "    \n",
    "    if b - a > 1:\n",
    "        # Draw a rectangle around the faces\n",
    "        for (x, y, w, h) in faces:\n",
    "            cv2.rectangle(gray, (x, y), (x+w, y+h), (0, 255, 0), 2)\n",
    "            if cv2.waitKey(1) & 0xFF == ord('q'):\n",
    "                imagen = cv2.resize(gray[y:y+h,x:x+w],(100,100), interpolation = cv2.INTER_CUBIC)\n",
    "                #imagen = cv2.cvtColor(imagen, cv2.COLOR_BGR2GRAY)\n",
    "                imagen = np.array(imagen)\n",
    "                imagen = np.ravel(imagen)\n",
    "                temp = []\n",
    "                temp.append(np.asarray(imagen))\n",
    "                temp = np.asarray(temp)\n",
    "                name = getName(clf.predict(temp)[0])\n",
    "                cv2.putText(img = gray, text = name, org = (int((x+w)/2),(y+h)), fontFace = cv2.FONT_HERSHEY_DUPLEX, fontScale = 3, color = (int(0), int(255), int(0)))\n",
    "            count += 1\n",
    "\n",
    "        # Display the resulting frame\n",
    "        cv2.imshow('Video', gray)\n",
    "        a = b\n",
    "\n",
    "# When everything is done, release the capture\n",
    "cap.release()\n",
    "cv2.destroyAllWindows()"
   ]
  },
  {
   "cell_type": "code",
   "execution_count": null,
   "metadata": {},
   "outputs": [],
   "source": []
  }
 ],
 "metadata": {
  "kernelspec": {
   "display_name": "Python 3",
   "language": "python",
   "name": "python3"
  },
  "language_info": {
   "codemirror_mode": {
    "name": "ipython",
    "version": 3
   },
   "file_extension": ".py",
   "mimetype": "text/x-python",
   "name": "python",
   "nbconvert_exporter": "python",
   "pygments_lexer": "ipython3",
   "version": "3.6.6"
  }
 },
 "nbformat": 4,
 "nbformat_minor": 2
}
