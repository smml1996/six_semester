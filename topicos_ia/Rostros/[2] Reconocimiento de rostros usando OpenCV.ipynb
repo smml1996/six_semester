{
 "cells": [
  {
   "cell_type": "markdown",
   "metadata": {},
   "source": [
    "## Reconocimiento de rostros\n",
    "- Consiste en reconocer un rostro en una imagen o en un video\n",
    "- El siguiente código encuadra un rostro en el video y le hace seguimiento.\n",
    "- Fuente: https://docs.opencv.org/3.0-beta/doc/py_tutorials/py_objdetect/py_face_detection/py_face_detection.html"
   ]
  },
  {
   "cell_type": "code",
   "execution_count": 2,
   "metadata": {},
   "outputs": [],
   "source": [
    "import cv2\n",
    "import sys\n",
    "from time import clock\n",
    "import numpy as np\n",
    "import matplotlib.pyplot as plt\n",
    "import os.path\n",
    "import pandas as pd"
   ]
  },
  {
   "cell_type": "code",
   "execution_count": 2,
   "metadata": {},
   "outputs": [],
   "source": [
    "class Rectangle:\n",
    "    def __init__(x, y):\n",
    "        self.x = x\n",
    "        self.y = y"
   ]
  },
  {
   "cell_type": "code",
   "execution_count": 3,
   "metadata": {},
   "outputs": [],
   "source": [
    "cascPath =  \"haarcascade_frontalface_default.xml\"\n",
    "faceCascade = cv2.CascadeClassifier(cascPath)\n",
    "\n",
    "cap = cv2.VideoCapture(0)\n",
    "\n",
    "a = 0\n",
    "count = 0\n",
    "while True:\n",
    "    # Capture frame-by-frame\n",
    "    #ret, frame = video_capture.read()\n",
    "    ret, frame = cap.read()\n",
    "    b = clock()\n",
    "    if  ret==False:\n",
    "        print(\"ERROR: No device found\")\n",
    "        break\n",
    "\n",
    "    gray = cv2.cvtColor(frame, cv2.COLOR_BGR2GRAY)\n",
    "\n",
    "    faces = faceCascade.detectMultiScale(\n",
    "        gray,\n",
    "        scaleFactor=1.1,\n",
    "        minNeighbors=5,\n",
    "        minSize=(30, 30),\n",
    "        #flags=cv2.cv.CV_HAAR_SCALE_IMAGE\n",
    "        flags=cv2.CASCADE_SCALE_IMAGE\n",
    "    )\n",
    "    \n",
    "    if b - a > 1:\n",
    "        # Draw a rectangle around the faces\n",
    "        for (x, y, w, h) in faces:\n",
    "            cv2.rectangle(frame, (x, y), (x+w, y+h), (0, 255, 0), 2)\n",
    "            cv2.imwrite(\"frame%d.jpg\" % count, cv2.resize(frame[y:y+h,x:x+w],(100,100), interpolation = cv2.INTER_CUBIC))\n",
    "            count+=1\n",
    "\n",
    "        # Display the resulting frame\n",
    "        cv2.imshow('Video', frame)\n",
    "        a = b\n",
    "\n",
    "    if cv2.waitKey(1) & 0xFF == ord('q'):\n",
    "        break\n",
    "\n",
    "# When everything is done, release the capture\n",
    "cap.release()\n",
    "cv2.destroyAllWindows()"
   ]
  },
  {
   "cell_type": "markdown",
   "metadata": {},
   "source": [
    "## Tarea  - Preparar el dataset.\n",
    "1. Identificar el recuadro donde se captura el rostro\n",
    "2. Establecer un tamaño máximo o mínimo y adaptar la imagen a ese tamaño. Puede usar la función resize() de opencv.\n",
    "3. Guardar el recuadro en un archivo o sino acumularlo en una lista de python y al final guardar dicha lista.\n",
    "4. Cronometrar la captura del recuadro cada 1 segundo (depende del video). Visitar https://recursospython.com/guias-y-manuales/scheduler/"
   ]
  },
  {
   "cell_type": "code",
   "execution_count": 3,
   "metadata": {},
   "outputs": [],
   "source": [
    "all_faces = [];\n",
    "for i in range(0, 200):\n",
    "    if os.path.exists('frame' + str(i) + '.jpg'):\n",
    "        img  = cv2.imread('frame' + str(i) + '.jpg',0)\n",
    "        img = np.array(img)\n",
    "        img = np.ravel(img)\n",
    "        all_faces.append(np.asarray(img))\n",
    "df = pd.DataFrame(np.asarray(all_faces))\n",
    "df.to_csv('stefanie2.csv', sep=',', encoding='utf-8', index=False, header=False)"
   ]
  },
  {
   "cell_type": "code",
   "execution_count": 4,
   "metadata": {},
   "outputs": [
    {
     "name": "stdout",
     "output_type": "stream",
     "text": [
      "(104, 10000)\n"
     ]
    }
   ],
   "source": [
    "from numpy import genfromtxt\n",
    "my_data = genfromtxt('stefanie.csv', delimiter=',')\n",
    "print(my_data.shape)"
   ]
  },
  {
   "cell_type": "code",
   "execution_count": 11,
   "metadata": {},
   "outputs": [
    {
     "name": "stdout",
     "output_type": "stream",
     "text": [
      "(25, 10000)\n"
     ]
    }
   ],
   "source": [
    "my_data = genfromtxt('jonathan_jimmy.csv', delimiter=',')\n",
    "print(my_data[76:].shape)"
   ]
  },
  {
   "cell_type": "code",
   "execution_count": 7,
   "metadata": {},
   "outputs": [
    {
     "name": "stdout",
     "output_type": "stream",
     "text": [
      "(100, 10000)\n"
     ]
    }
   ],
   "source": [
    "my_data = genfromtxt('harry_marquez.csv', delimiter=',')\n",
    "print(my_data.shape)"
   ]
  },
  {
   "cell_type": "code",
   "execution_count": 9,
   "metadata": {},
   "outputs": [
    {
     "name": "stdout",
     "output_type": "stream",
     "text": [
      "(100, 10000)\n"
     ]
    }
   ],
   "source": [
    "my_data = genfromtxt('delaGala.csv', delimiter=',')\n",
    "print(my_data.shape)"
   ]
  },
  {
   "cell_type": "code",
   "execution_count": null,
   "metadata": {},
   "outputs": [],
   "source": []
  }
 ],
 "metadata": {
  "kernelspec": {
   "display_name": "Python 3",
   "language": "python",
   "name": "python3"
  },
  "language_info": {
   "codemirror_mode": {
    "name": "ipython",
    "version": 3
   },
   "file_extension": ".py",
   "mimetype": "text/x-python",
   "name": "python",
   "nbconvert_exporter": "python",
   "pygments_lexer": "ipython3",
   "version": "3.6.6"
  }
 },
 "nbformat": 4,
 "nbformat_minor": 2
}
