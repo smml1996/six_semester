{
 "cells": [
  {
   "cell_type": "code",
   "execution_count": 229,
   "metadata": {},
   "outputs": [],
   "source": [
    "import numpy as np\n",
    "import pandas as pd"
   ]
  },
  {
   "cell_type": "code",
   "execution_count": 230,
   "metadata": {},
   "outputs": [],
   "source": [
    "datosX = pd.read_csv(\"/Users/stefaniemuroyalei/Documents/cicloVI/topicos_ia/Forward/x.csv\", header=None)\n",
    "datosX = datosX.values"
   ]
  },
  {
   "cell_type": "code",
   "execution_count": 231,
   "metadata": {},
   "outputs": [],
   "source": [
    "datosY = pd.read_csv(\"/Users/stefaniemuroyalei/Documents/cicloVI/topicos_ia/Forward/y.csv\", header=None)\n",
    "datosY = datosY.values"
   ]
  },
  {
   "cell_type": "code",
   "execution_count": 232,
   "metadata": {},
   "outputs": [],
   "source": [
    "datosTheta1 = pd.read_csv(\"/Users/stefaniemuroyalei/Documents/cicloVI/topicos_ia/Forward/theta1.csv\", header=None)\n",
    "datosTheta1 = datosTheta1.values"
   ]
  },
  {
   "cell_type": "code",
   "execution_count": 233,
   "metadata": {},
   "outputs": [],
   "source": [
    "datosTheta2 = pd.read_csv(\"/Users/stefaniemuroyalei/Documents/cicloVI/topicos_ia/Forward/theta2.csv\", header= None)\n",
    "datosTheta2 = datosTheta2.values"
   ]
  },
  {
   "cell_type": "code",
   "execution_count": 260,
   "metadata": {},
   "outputs": [],
   "source": [
    "class FastForward:\n",
    "    def __init__(self,):\n",
    "        self.X = []\n",
    "        self.Y = []\n",
    "        self.theta = []\n",
    "        self.matrixY = np.zeros(5000*10).reshape(5000, 10)   \n",
    "    def hyphotesis(self, z):\n",
    "        return 1.0/(1.0 +  np.exp(-z) )\n",
    "    def getMatrixY(self): \n",
    "        for i in range(0, len(self.Y)):\n",
    "            if(self.Y[i] == 10):\n",
    "                self.matrixY[i][0] = 1\n",
    "            else:\n",
    "                self.matrixY[i][self.Y[i]] = 1\n",
    "    def getAccuracy(self,x,y, theta1, theta2 ):\n",
    "        self.theta = theta1\n",
    "        self.theta2 = theta2\n",
    "        self.Y = y\n",
    "        self.X = np.matrix(np.append(np.ones((x.shape[0], 1)), x, axis=1))\n",
    "        temp = np.dot(self.X, self.theta.T)\n",
    "        temp = self.hyphotesis(temp)\n",
    "        temp = np.matrix(np.append(np.ones((temp.shape[0], 1)), temp, axis=1))\n",
    "        temp = np.dot(temp, self.theta2.T)\n",
    "        temp = self.hyphotesis(temp)\n",
    "        self.getMatrixY()\n",
    "        count =0\n",
    "\n",
    "        for i in range(0, len(temp)):\n",
    "            index = np.argmax(temp[i])+1\n",
    "            if index == 0:\n",
    "                index=10\n",
    "            if self.Y[i] == index:\n",
    "                count+=1\n",
    "        return 100*count/float(len(temp))\n",
    "        "
   ]
  },
  {
   "cell_type": "code",
   "execution_count": 261,
   "metadata": {},
   "outputs": [],
   "source": [
    "ff = FastForward()"
   ]
  },
  {
   "cell_type": "code",
   "execution_count": 262,
   "metadata": {},
   "outputs": [
    {
     "data": {
      "text/plain": [
       "97.52"
      ]
     },
     "execution_count": 262,
     "metadata": {},
     "output_type": "execute_result"
    }
   ],
   "source": [
    "ff.getAccuracy(datosX, datosY, datosTheta1, datosTheta2)"
   ]
  },
  {
   "cell_type": "code",
   "execution_count": null,
   "metadata": {},
   "outputs": [],
   "source": []
  }
 ],
 "metadata": {
  "kernelspec": {
   "display_name": "Python 3",
   "language": "python",
   "name": "python3"
  },
  "language_info": {
   "codemirror_mode": {
    "name": "ipython",
    "version": 3
   },
   "file_extension": ".py",
   "mimetype": "text/x-python",
   "name": "python",
   "nbconvert_exporter": "python",
   "pygments_lexer": "ipython3",
   "version": "3.6.5"
  }
 },
 "nbformat": 4,
 "nbformat_minor": 2
}
