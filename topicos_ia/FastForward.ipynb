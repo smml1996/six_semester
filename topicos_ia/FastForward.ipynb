{
 "cells": [
  {
   "cell_type": "code",
   "execution_count": 2,
   "metadata": {},
   "outputs": [],
   "source": [
    "import numpy as np\n",
    "import pandas as pd"
   ]
  },
  {
   "cell_type": "code",
   "execution_count": 3,
   "metadata": {},
   "outputs": [],
   "source": [
    "datosX = pd.read_csv(\"/Users/stefaniemuroyalei/Documents/cicloVI/topicos_ia/Forward/x.csv\", header=None)\n",
    "datosX = datosX.values"
   ]
  },
  {
   "cell_type": "code",
   "execution_count": 4,
   "metadata": {},
   "outputs": [],
   "source": [
    "datosY = pd.read_csv(\"/Users/stefaniemuroyalei/Documents/cicloVI/topicos_ia/Forward/y.csv\", header=None)\n",
    "datosY = datosY.values"
   ]
  },
  {
   "cell_type": "code",
   "execution_count": 9,
   "metadata": {},
   "outputs": [
    {
     "name": "stdout",
     "output_type": "stream",
     "text": [
      "(25, 401)\n"
     ]
    }
   ],
   "source": [
    "datosTheta1 = pd.read_csv(\"/Users/stefaniemuroyalei/Documents/cicloVI/topicos_ia/Forward/theta1.csv\", header=None)\n",
    "datosTheta1 = datosTheta1.values\n",
    "print(datosTheta1.shape)"
   ]
  },
  {
   "cell_type": "code",
   "execution_count": 10,
   "metadata": {},
   "outputs": [
    {
     "name": "stdout",
     "output_type": "stream",
     "text": [
      "(10, 26)\n"
     ]
    }
   ],
   "source": [
    "datosTheta2 = pd.read_csv(\"/Users/stefaniemuroyalei/Documents/cicloVI/topicos_ia/Forward/theta2.csv\", header= None)\n",
    "datosTheta2 = datosTheta2.values\n",
    "print(datosTheta2.shape)"
   ]
  },
  {
   "cell_type": "code",
   "execution_count": 45,
   "metadata": {},
   "outputs": [],
   "source": [
    "class FastForward:\n",
    "    def __init__(self,):\n",
    "        self.X = []\n",
    "        self.Y = []\n",
    "        self.theta = []\n",
    "        self.matrixY = np.zeros(5000*10).reshape(5000, 10)   \n",
    "    def hyphotesis(self, z):\n",
    "        return 1.0/(1.0 +  np.exp(-z) )\n",
    "    def getMatrixY(self): \n",
    "        for i in range(0, len(self.Y)):\n",
    "            if(self.Y[i] == 10):\n",
    "                self.matrixY[i][0] = 1\n",
    "            else:\n",
    "                self.matrixY[i][self.Y[i]] = 1\n",
    "    def getAccuracy(self,x,y, theta1, theta2 ):\n",
    "        self.theta = theta1\n",
    "        self.theta2 = theta2\n",
    "        self.Y = y\n",
    "        self.X = np.matrix(np.append(np.ones((x.shape[0], 1)), x, axis=1))\n",
    "        temp = np.dot(self.X, self.theta.T)\n",
    "        \n",
    "        temp = self.hyphotesis(temp)\n",
    "        temp = np.matrix(np.append(np.ones((temp.shape[0], 1)), temp, axis=1))\n",
    "        temp = np.dot(temp, self.theta2.T)\n",
    "        temp = self.hyphotesis(temp)\n",
    "        \n",
    "        self.getMatrixY()\n",
    "        count =0\n",
    "        print(temp)\n",
    "        for i in range(0, len(temp)):\n",
    "            index = np.argmax(temp[i])+1\n",
    "            if index == 0:\n",
    "                index=10\n",
    "            if self.Y[i] == index:\n",
    "                count+=1\n",
    "        return 100*count/float(len(temp))\n",
    "        "
   ]
  },
  {
   "cell_type": "code",
   "execution_count": 46,
   "metadata": {},
   "outputs": [],
   "source": [
    "ff = FastForward()"
   ]
  },
  {
   "cell_type": "code",
   "execution_count": 47,
   "metadata": {},
   "outputs": [
    {
     "name": "stdout",
     "output_type": "stream",
     "text": [
      "[[1.12661530e-04 1.74127856e-03 2.52696959e-03 ... 4.01468105e-04\n",
      "  6.48072305e-03 9.95734012e-01]\n",
      " [4.79026796e-04 2.41495958e-03 3.44755685e-03 ... 2.39107046e-03\n",
      "  1.97025086e-03 9.95696931e-01]\n",
      " [8.85702310e-05 3.24266731e-03 2.55419797e-02 ... 6.22892325e-02\n",
      "  5.49803551e-03 9.28008397e-01]\n",
      " ...\n",
      " [5.17641791e-02 3.81715020e-03 2.96297510e-02 ... 2.15667361e-03\n",
      "  6.49826950e-01 2.42384687e-05]\n",
      " [8.30631310e-04 6.22003774e-04 3.14518512e-04 ... 1.19366192e-02\n",
      "  9.71410499e-01 2.06173648e-04]\n",
      " [4.81465717e-05 4.58821829e-04 2.15146201e-05 ... 5.73434571e-03\n",
      "  6.96288990e-01 8.18576980e-02]]\n"
     ]
    },
    {
     "data": {
      "text/plain": [
       "97.52"
      ]
     },
     "execution_count": 47,
     "metadata": {},
     "output_type": "execute_result"
    }
   ],
   "source": [
    "ff.getAccuracy(datosX, datosY, datosTheta1, datosTheta2)"
   ]
  },
  {
   "cell_type": "code",
   "execution_count": null,
   "metadata": {},
   "outputs": [],
   "source": []
  }
 ],
 "metadata": {
  "kernelspec": {
   "display_name": "Python 3",
   "language": "python",
   "name": "python3"
  },
  "language_info": {
   "codemirror_mode": {
    "name": "ipython",
    "version": 3
   },
   "file_extension": ".py",
   "mimetype": "text/x-python",
   "name": "python",
   "nbconvert_exporter": "python",
   "pygments_lexer": "ipython3",
   "version": "3.6.5"
  }
 },
 "nbformat": 4,
 "nbformat_minor": 2
}
